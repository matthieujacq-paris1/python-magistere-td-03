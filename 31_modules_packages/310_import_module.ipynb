{
 "cells": [
  {
   "cell_type": "markdown",
   "metadata": {},
   "source": [
    "> ### Vérification de la configuration\n",
    "> Vérifiez que Python et les tests fonctionnent correctement en exécutant les deux cellules ci-dessous."
   ]
  },
  {
   "cell_type": "code",
   "execution_count": null,
   "metadata": {},
   "outputs": [],
   "source": [
    "print(\"✅ Python works!\")\n",
    "from sys import version\n",
    "print(version)"
   ]
  },
  {
   "cell_type": "code",
   "execution_count": null,
   "metadata": {},
   "outputs": [],
   "source": [
    "import ipytest\n",
    "ipytest.autoconfig()\n",
    "ipytest.clean()\n",
    "def test_all_good():\n",
    "    assert \"🐍\" == \"🐍\"\n",
    "ipytest.run()"
   ]
  },
  {
   "cell_type": "markdown",
   "metadata": {},
   "source": [
    "# Les modules en Python\n",
    "\n",
    "Les modules en Python sont des fichiers `.py` contenant des fonctions, des classes et des variables. Les modules sont importés dans d'autres modules à l'aide de l'instruction `import`.\n",
    "\n",
    "Par exemple, si vous avez un fichier `module.py` contenant une fonction `ma_fonction`, vous pouvez l'importer dans un autre fichier en utilisant l'instruction `import module`.\n",
    "\n",
    "```python\n",
    "import module\n",
    "\n",
    "module.ma_fonction()\n",
    "```\n",
    "\n",
    "> Concrètement, les modules peuvent être \n",
    "> - des fichiers `.py` que vous avez écrits\n",
    "> - des fichiers `.py` de la bibliothèque standard de Python\n",
    "> - des packages (dossiers contenant des fichiers `.py`) que vous avez écrits ou que vous avez installés\n",
    "\n",
    "> **🎊ℹ️ Modules se trouvant dans des dossiers**:\n",
    "> - Si vous avez un module dans un sous-dossier, vous pouvez l'importer en utilisant le nom du dossier suivi du nom du module. Par exemple, si vous avez un dossier `mon_package` contenant un module `mon_module.py`, vous pouvez l'importer en utilisant l'instruction `import mon_package.mon_module`.\n",
    "> - Si vous voulez accéder au dossier parent d'un module, ce sera un peu plus compliqué. Une option rapide serait d'ajouter le chemin du dossier parent au `sys.path` (liste des chemins de recherche des modules). Par exemple, ainsi : `import sys; sys.path.append('..'); import mon_module` permettrait d'importer `mon_module` depuis le dossier parent. Cependant, nous de recommandons pas de le faire. Pour structurer de manière plus propre un gros projet, il est préférable d'organiser vos modules dans des packages. Nous ne couvrirons pas ce sujet pour l'instant.\n",
    "\n",
    "## Les imports sélectifs et les alias\n",
    "\n",
    "Il existe plusieurs façons d'importer des modules en Python, qui permettent de contrôler les éléments qui sont importés ou de définir des alias pour les modules importés :\n",
    "\n",
    "- `import module`: importe tout le module. Les éléments du module doivent être préfixés par le nom du module. Par exemple, `module.ma_fonction()`.\n",
    "- `from module import ma_fonction`: importe uniquement la fonction `ma_fonction` du module. La fonction peut être utilisée sans préfixer son nom par le nom du module. Par exemple, `ma_fonction()`.\n",
    "- `from module import *`: importe tous les éléments du module. Les éléments du module peuvent être utilisés sans préfixer leur nom par le nom du module. Par exemple, `ma_fonction()`.\n",
    "- `import module as alias`: importe le module en utilisant un alias. Les éléments du module doivent être préfixés par l'alias. Par exemple, `alias.ma_fonction()`.\n",
    "- `from module import ma_fonction as alias`: importe la fonction `ma_fonction` du module en utilisant un alias. La fonction peut être utilisée sans préfixer son nom par le nom du module. Par exemple, `alias()`.\n",
    "\n",
    "> **Pourquoi utiliser des imports sélectifs et des alias ?**\n",
    "> - Les imports sélectifs permettent de n'importer que les éléments nécessaires d'un module, ce qui peut réduire la consommation de mémoire. Cela raccourcit également le code en évitant de préfixer les noms des éléments par le nom du module.\n",
    "> - Les alias permettent de renommer les modules ou les fonctions importés pour les rendre plus courts ou plus explicites. Cela permet également d'éviter les conflits de noms dans certains cas.\n",
    "\n",
    "Exemples :\n",
    "\n",
    "```python\n",
    "import math\n",
    "print(math.sqrt(16))\n",
    "\n",
    "from math import sqrt\n",
    "print(sqrt(16))\n",
    "\n",
    "import math as m\n",
    "print(m.sqrt(16))\n",
    "\n",
    "from math import sqrt as sq\n",
    "print(sq(16))\n",
    "\n",
    "from math import *\n",
    "print(sqrt(16))\n",
    "print(pow(2, 3))\n",
    "```\n",
    "\n",
    "## Les modules de la bibliothèque standard de Python\n",
    "\n",
    "La bibliothèque standard de Python est une collection de modules qui fournissent des fonctionnalités utiles pour de nombreux cas d'utilisation courants. Ces modules sont inclus dans l'installation de Python et peuvent être importés dans vos programmes.\n",
    "\n",
    "Voici quelques exemples de modules de la bibliothèque standard de Python :\n",
    "- `math`: fonctions mathématiques\n",
    "- `random`: génération de nombres aléatoires\n",
    "- `os`: fonctions liées au système d'exploitation\n",
    "- `sys`: variables et fonctions spécifiques à l'interpréteur Python\n",
    "- `datetime`: classes pour manipuler des dates et des heures\n",
    "- `json`: encodage et décodage de données JSON\n",
    "- `re`: expressions régulières\n",
    "- etc.\n",
    "\n",
    "## 📚 Exercices\n",
    "\n",
    "1. Importez la fonction `pow` du module `math` sous le nom `puissance`. (Vous devez ensuite pouvroir faire `print(puissance(2, 3))` par exemple.)\n",
    "2. Importez le module `random` sous l'alias `r`. (Vous devez ensuite pouvoir faire `print(r.randint(1, 10))` par exemple pour générer un nombre aléatoire entre 1 et 10.)\n",
    "3. Importez toutes les fonctions du module `os` de sorte à pouvoir les utiliser sans préfixe. (Vous devez ensuite pouvoir faire `print(getcwd())` par exemple pour afficher le répertoire de travail actuel.)\n",
    "4. Importez la fonction `hello` du fichier `example_module.py`. Vous devez pouvoir utiliser la fonction hello sans préfixe (ex: `hello('Ariane')`).\n",
    "5. Créez un module `my_module` contenant une fonction `my_function` qui retourne \"Hello, world!\". Importez le module (sans alias).\n",
    "6. 🎊 Importez toutes les fonctions du fichier `another_example.py`, situé dans le sous-dossier `some_folder`. Ne pas utiliser d'alias.\n"
   ]
  },
  {
   "cell_type": "code",
   "execution_count": null,
   "metadata": {},
   "outputs": [],
   "source": [
    "# 🏖️ Sandbox for testing code\n"
   ]
  },
  {
   "cell_type": "code",
   "execution_count": null,
   "metadata": {},
   "outputs": [],
   "source": [
    "# 1. Importez la fonction `pow` du module `math` sous le nom `puissance`. (Vous devez ensuite pouvroir faire `print(puissance(2, 3))` par exemple.)\n",
    "\n"
   ]
  },
  {
   "cell_type": "code",
   "execution_count": null,
   "metadata": {},
   "outputs": [],
   "source": [
    "# 🧪\n",
    "ipytest.clean()\n",
    "def test_import_puissance():\n",
    "    assert puissance(2, 3) == 8.0\n",
    "ipytest.run()"
   ]
  },
  {
   "cell_type": "code",
   "execution_count": null,
   "metadata": {},
   "outputs": [],
   "source": [
    "# 2. Importez le module `random` sous l'alias `r`. (Vous devez ensuite pouvoir faire `print(r.randint(1, 10))` par exemple pour générer un nombre aléatoire entre 1 et 10.)\n"
   ]
  },
  {
   "cell_type": "code",
   "execution_count": null,
   "metadata": {},
   "outputs": [],
   "source": [
    "# 🧪\n",
    "ipytest.clean()\n",
    "def test_import_random():\n",
    "    assert 1 <= r.randint(1, 10) <= 10\n",
    "ipytest.run()\n"
   ]
  },
  {
   "cell_type": "code",
   "execution_count": null,
   "metadata": {},
   "outputs": [],
   "source": [
    "# 3. Importez toutes les fonctions du module `os` de sorte à pouvoir les utiliser sans préfixe. (Vous devez ensuite pouvoir faire `print(getcwd())` par exemple pour afficher le répertoire de travail actuel.)\n"
   ]
  },
  {
   "cell_type": "code",
   "execution_count": null,
   "metadata": {},
   "outputs": [],
   "source": [
    "# 🧪\n",
    "ipytest.clean()\n",
    "def test_import_os():\n",
    "    assert getcwd() != \"\"\n",
    "ipytest.run()"
   ]
  },
  {
   "cell_type": "code",
   "execution_count": null,
   "metadata": {},
   "outputs": [],
   "source": [
    "# 4. Importez la fonction `hello` du fichier `example_module.py`. Vous devez pouvoir utiliser la fonction hello sans préfixe (ex: `hello('Ariane')`).\n"
   ]
  },
  {
   "cell_type": "code",
   "execution_count": null,
   "metadata": {},
   "outputs": [],
   "source": [
    "# 🧪\n",
    "ipytest.clean()\n",
    "def test_import_hello():\n",
    "    assert hello('Ariane') == \"Hello Ariane!\"\n",
    "    assert hello('Matthieu') == \"Hello prof!\"\n",
    "ipytest.run()"
   ]
  },
  {
   "cell_type": "code",
   "execution_count": null,
   "metadata": {},
   "outputs": [],
   "source": [
    "# 5. Créez un module `my_module` contenant une fonction `my_function` qui retourne \"Hello, world!\". Importez le module (sans alias). Vous devez ensuite pouvoir faire `print(my_module.my_function())` pour afficher \"Hello, world!\". ⚠️ Si vous modifiez le module après l'avoir importé, vous devrez redémarrer le noyau pour prendre en compte les modifications (bouton \"Restart\" dans la barre d'outils en haut du notebook).\n"
   ]
  },
  {
   "cell_type": "code",
   "execution_count": null,
   "metadata": {},
   "outputs": [],
   "source": [
    "# 🧪\n",
    "import ipytest \n",
    "ipytest.autoconfig()\n",
    "ipytest.clean()\n",
    "def test_import_my_module():\n",
    "    assert my_module.my_function() == \"Hello, world!\"\n",
    "    import my_module as mm\n",
    "    assert mm.my_function() == \"Hello, world!\"\n",
    "ipytest.run()\n"
   ]
  },
  {
   "cell_type": "code",
   "execution_count": null,
   "metadata": {},
   "outputs": [],
   "source": [
    "# 6. 🎊 Importez toutes les fonctions du fichier `another_example.py`, situé dans le sous-dossier `some_folder`. Ne pas utiliser d'alias.\n"
   ]
  },
  {
   "cell_type": "code",
   "execution_count": null,
   "metadata": {},
   "outputs": [],
   "source": [
    "# 🧪\n",
    "ipytest.clean()\n",
    "def test_import_another_example():\n",
    "    assert some_folder.another_example.another_function() == \"This is another function\"\n",
    "    assert some_folder.another_example.ice_cream() == \"I love 🍦\"\n",
    "ipytest.run()\n"
   ]
  }
 ],
 "metadata": {
  "kernelspec": {
   "display_name": "Python 3",
   "language": "python",
   "name": "python3"
  },
  "language_info": {
   "codemirror_mode": {
    "name": "ipython",
    "version": 3
   },
   "file_extension": ".py",
   "mimetype": "text/x-python",
   "name": "python",
   "nbconvert_exporter": "python",
   "pygments_lexer": "ipython3",
   "version": "3.11.5"
  }
 },
 "nbformat": 4,
 "nbformat_minor": 2
}
