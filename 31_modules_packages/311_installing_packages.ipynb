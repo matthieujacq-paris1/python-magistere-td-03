{
 "cells": [
  {
   "cell_type": "markdown",
   "metadata": {},
   "source": [
    "> ### Vérification de la configuration\n",
    "> Vérifiez que Python et les tests fonctionnent correctement en exécutant les deux cellules ci-dessous."
   ]
  },
  {
   "cell_type": "code",
   "execution_count": null,
   "metadata": {},
   "outputs": [],
   "source": [
    "print(\"✅ Python works!\")\n",
    "from sys import version\n",
    "print(version)"
   ]
  },
  {
   "cell_type": "code",
   "execution_count": null,
   "metadata": {},
   "outputs": [],
   "source": [
    "import ipytest\n",
    "ipytest.autoconfig()\n",
    "ipytest.clean()\n",
    "def test_all_good():\n",
    "    assert \"🐍\" == \"🐍\"\n",
    "ipytest.run()"
   ]
  },
  {
   "cell_type": "markdown",
   "metadata": {},
   "source": [
    "# Installation de packages tiers\n",
    "\n",
    "En plus de la bibliothèque standard de Python, il existe de nombreuses bibliothèques tierces développées par la communauté Python qui fournissent des fonctionnalités supplémentaires pour divers cas d'utilisation. Ces bibliothèques peuvent être installées à l'aide de gestionnaires de paquets tels que `pip`.\n",
    "\n",
    "Voici quelques exemples de bibliothèques tierces populaires en Python :\n",
    "- `numpy`: calcul numérique\n",
    "- `pandas`: manipulation de données\n",
    "- `matplotlib`: visualisation de données\n",
    "\n",
    "## Installation/Désinstallation depuis un notebook\n",
    "\n",
    "Dans un notebook, vous pouvez installer des packages tiers en utilisant la commande `%pip install <package>`.\n",
    "Par exemple, pour installer la bibliothèque `numpy`, vous pouvez exécuter le code suivant :\n",
    "\n",
    "```python\n",
    "%pip install numpy\n",
    "```\n",
    "\n",
    "Si l'installation réussit, vous devriez voir un message semblable à celui-ci :\n",
    "```\n",
    "Successfully installed numpy-1.21.2\n",
    "```\n",
    "\n",
    "Pour désinstaller un package, vous pouvez utiliser la commande `%pip uninstall -y <package>`. (L'option `-y` permet de lancer désinstallation sans demander de confirmation. Dans jupyter notebook, il est nécessaire de l'utiliser pour éviter de bloquer l'exécution du code).\n",
    "Par exemple, pour désinstaller la bibliothèque `numpy`, vous pouvez exécuter le code suivant :\n",
    "\n",
    "```python\n",
    "%pip uninstall numpy\n",
    "```\n",
    "\n",
    "> **ℹ️ Info**: Pour que la désinstallation soit prise en compte, il est nécessaire de redémarrer le noyau du notebook. Pour ce faire, cliquez sur le bouton `Restart` dans la barre d'outils en haut du notebook.\n",
    "\n",
    "> **ℹ️ Vocabulaire**: Le \"noyau\" ou `kernel` est le moteur qui exécute le code derrière les notebooks Jupyter. Il conserve l'état de l'exécution du code (par exemple, les valeurs des variables) entre les cellules. Redémarrer le noyau signifie arrêter le moteur et le redémarrer à zéro.\n",
    "\n",
    "## Installation/Désinstallation avec l'extension Python Environment Manager de VSCode\n",
    "\n",
    "Dans VSCode, pour faciliter l'installation des packages tiers, nous avons installé l'extension `Python Environment Manager`. Depuis la barre latérale, vous pouvez voir les packages installés et en installer de nouveaux en cliquant sur l'icône de loupe (🔍 pour rechercher et installer un nouveau package). Pour supprimer le package il suffit de retrouver le package dans la barre latérale et de cliquer l'icône de poubelle (🗑️).\n",
    "\n",
    "## 🎊 Mettre à jour des packages\n",
    "\n",
    "- `%pip install --upgrade <package>` : Mettre à jour un package à la dernière version disponible.\n",
    "- ou cliquer sur l'icône de nuage de téléchargement (☁️) à côté du package dans l'extension Python Environment Manager de VSCode.\n",
    "\n",
    "> 🎊 Mettre à jour la version de pip\n",
    "> Il est recommandé de mettre à jour la version de `pip` avant d'installer des packages tiers. Vous pouvez le faire en exécutant la commande suivante :\n",
    "> ```python\n",
    "> %pip install --upgrade pip\n",
    "> ```\n",
    "\n",
    "\n",
    "## 📚 Exercices\n",
    "1. Installer la bibliothèque `matplotlib` avec `pip`.\n",
    "2. Désinstaller la bibliothèque `matplotlib` avec `pip`.\n",
    "3. Installer la bibliothèque `numpy` avec l'extension Python Environment Manager de VSCode.\n",
    "4. Désinstaller la bibliothèque `numpy` avec l'extension Python Environment Manager de VSCode.\n",
    "5. 🎊 Mettre à jour votre version de `pip` par la méthode de votre choix."
   ]
  },
  {
   "cell_type": "code",
   "execution_count": null,
   "metadata": {},
   "outputs": [],
   "source": [
    "# 🏖️ Sandbox for testing code\n"
   ]
  },
  {
   "cell_type": "code",
   "execution_count": null,
   "metadata": {},
   "outputs": [],
   "source": [
    "# 1. Installer la bibliothèque `matplotlib` avec `pip`.\n"
   ]
  },
  {
   "cell_type": "code",
   "execution_count": null,
   "metadata": {},
   "outputs": [],
   "source": [
    "# 🧪 Ce test peut prendre un certain temps la première fois (30sec, voire 1min)\n",
    "from matplotlib import pyplot\n",
    "\n",
    "print(\"Matplotlib is properly installed!\")\n",
    "pyplot.plot([1, 2, 3, 4], [1, 4, 9, 16])"
   ]
  },
  {
   "cell_type": "code",
   "execution_count": null,
   "metadata": {},
   "outputs": [],
   "source": [
    "# 2. Désinstaller la bibliothèque `matplotlib` avec `pip`. Après avoir exécuté cette cellule, redémarrer le noyau de jupyter (bouton \"Restart\").\n"
   ]
  },
  {
   "cell_type": "code",
   "execution_count": null,
   "metadata": {},
   "outputs": [],
   "source": [
    "# 🧪\n",
    "try:\n",
    "    from matplotlib import pyplot\n",
    "    raise Exception(\"❌ La bibliothèque `matplotlib` est toujours installée.\")\n",
    "    #\n",
    "    # Si vous voyez cette erreur ci-dessus, c'est que la désinstallation n'a pas fonctionné ou qu'il vous faut redémarrer le noyau du notebook.\n",
    "except ImportError:\n",
    "    print(\"✅ La bibliothèque `matplotlib` est bien désinstallée.\")"
   ]
  },
  {
   "cell_type": "code",
   "execution_count": null,
   "metadata": {},
   "outputs": [],
   "source": [
    "# 3. Installer la bibliothèque `numpy` avec l'extension Python Environment Manager de VSCode.\n",
    "# Il n'y pas de commande à rentrer ici. Rendez-vous dans la barre latérale gauche de VSCode, recherchez le pacakage `numpy` dans votre environnement Python et installez-le."
   ]
  },
  {
   "cell_type": "code",
   "execution_count": null,
   "metadata": {},
   "outputs": [],
   "source": [
    "# 🧪\n",
    "from numpy import random\n",
    "print(\"La bibliothèque `numpy` est bien installée.\")\n",
    "\n",
    "# Générer une liste de 5 notes suivant une distribution normale de moyenne 12 et d'écart-type 2, arrondies au demi-point.\n",
    "notes = list(map(lambda x: round(x * 2) / 2, random.normal(12, 2, 5)))\n",
    "print(f'Échantillon de 5 notes suivant une distribution normale de moyenne 12 et d\\'écart-type 2 : {notes}')\n"
   ]
  },
  {
   "cell_type": "code",
   "execution_count": null,
   "metadata": {},
   "outputs": [],
   "source": [
    "# 4. Désinstaller la bibliothèque `numpy` avec l'extension Python Environment Manager de VSCode. Après avoir exécuté cette cellule, redémarrer le noyau de jupyter (bouton \"Restart\").\n",
    "try:\n",
    "    from numpy import random\n",
    "    raise Exception(\"❌ La bibliothèque `numpy` est toujours installée.\")\n",
    "    #\n",
    "    # Si vous voyez cette erreur ci-dessus, c'est que la désinstallation n'a pas fonctionné ou qu'il vous faut redémarrer le noyau du notebook.\n",
    "except ImportError:\n",
    "    print(\"✅ La bibliothèque `numpy` est bien désinstallée.\")"
   ]
  },
  {
   "cell_type": "code",
   "execution_count": null,
   "metadata": {},
   "outputs": [],
   "source": [
    "# 5. 🎊 Mettre à jour votre version de `pip` par la méthode de votre choix.\n"
   ]
  },
  {
   "cell_type": "code",
   "execution_count": 1,
   "metadata": {},
   "outputs": [
    {
     "name": "stdout",
     "output_type": "stream",
     "text": [
      "\u001b[32m.\u001b[0m\u001b[32m                                                                                            [100%]\u001b[0m\n",
      "\u001b[32m\u001b[32m\u001b[1m1 passed\u001b[0m\u001b[32m in 0.00s\u001b[0m\u001b[0m\n"
     ]
    },
    {
     "data": {
      "text/plain": [
       "<ExitCode.OK: 0>"
      ]
     },
     "execution_count": 1,
     "metadata": {},
     "output_type": "execute_result"
    }
   ],
   "source": [
    "# 🧪\n",
    "# Vérifier que la version de `pip` est bien à jour\n",
    "from subprocess import getoutput\n",
    "from sys import executable\n",
    "is_outdated = 'Would install' in getoutput(f'{executable} -m pip install --upgrade --dry-run pip')\n",
    "import ipytest\n",
    "ipytest.autoconfig()\n",
    "ipytest.clean()\n",
    "def test_pip_is_up_to_date():\n",
    "    assert is_outdated == False\n",
    "ipytest.run()"
   ]
  }
 ],
 "metadata": {
  "kernelspec": {
   "display_name": "Python 3",
   "language": "python",
   "name": "python3"
  },
  "language_info": {
   "codemirror_mode": {
    "name": "ipython",
    "version": 3
   },
   "file_extension": ".py",
   "mimetype": "text/x-python",
   "name": "python",
   "nbconvert_exporter": "python",
   "pygments_lexer": "ipython3",
   "version": "3.11.5"
  }
 },
 "nbformat": 4,
 "nbformat_minor": 2
}
