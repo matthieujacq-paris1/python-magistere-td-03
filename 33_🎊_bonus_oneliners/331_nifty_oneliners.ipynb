{
 "cells": [
  {
   "cell_type": "markdown",
   "metadata": {},
   "source": [
    "> ### Vérification de la configuration\n",
    "> Vérifiez que Python et les tests fonctionnent correctement en exécutant les deux cellules ci-dessous."
   ]
  },
  {
   "cell_type": "code",
   "execution_count": null,
   "metadata": {},
   "outputs": [],
   "source": [
    "print(\"✅ Python works!\")\n",
    "from sys import version\n",
    "print(version)"
   ]
  },
  {
   "cell_type": "code",
   "execution_count": null,
   "metadata": {},
   "outputs": [],
   "source": [
    "import ipytest\n",
    "ipytest.autoconfig()\n",
    "ipytest.clean()\n",
    "def test_all_good():\n",
    "    assert \"🐍\" == \"🐍\"\n",
    "ipytest.run()"
   ]
  },
  {
   "cell_type": "markdown",
   "metadata": {},
   "source": [
    "# 🎊 🚀 Oneliers\n",
    "\n",
    "Python propose une fonctionnalité très intéressante appelée `one-liners` qui permet d'écrire des bouts de code très courts et très efficaces. Cela peut être très utile pour résoudre des problèmes de manière concise et élégante.\n",
    "\n",
    "> **Remarque** : Les `one-liners` sont très puissants mais dans certains cas peuvent rendre le code moins lisible. Soyez donc prudent lorsque vous les utilisez.\n",
    "\n",
    "## `if` en une ligne (Ternary Operator)\n",
    "\n",
    "- **Syntaxe** : `a if condition else b`\n",
    "- **Imbrication** : `a if condition1 else b if condition2 else c`\n",
    "\n",
    "**Exemple** :\n",
    "```python\n",
    "def pair_impair(n):\n",
    "    return \"pair\" if n % 2 == 0 else \"impair\"\n",
    "print(pair_impair(3))  # impair\n",
    "print(pair_impair(4))  # pair\n",
    "\n",
    "def signe(n):\n",
    "    return \"positif\" if n > 0 else \"négatif\" if n < 0 else \"nul\"\n",
    "print(signe(-5))  # négatif\n",
    "print(signe(0))  # nul\n",
    "print(signe(5))  # positif\n",
    "\n",
    "def maximum(a, b):\n",
    "    return a if a > b else b\n",
    "print(maximum(3, 5))  # 5\n",
    "\n",
    "# Ci-dessous un exemple d'imbrication qui rend le code beaucoup moins lisible.\n",
    "# Typiquement, il est largement préférable d'utiliser un if/elif/else classique dans ce cas.\n",
    "def maximum3(a, b, c):\n",
    "    return a if a > b and a > c else b if b > a and b > c else c\n",
    "```\n",
    "\n",
    "> **ℹ️ Info**: Cette syntaxe est appelée `Ternary Operator` (opérateur ternaire) et est très utilisée en Python pour écrire des conditions en une seule ligne.\n",
    "\n",
    "## Création de liste avec un `for` sur une ligne (List Comprehension)\n",
    "\n",
    "- **Syntaxe** : `[expression for element in iterable]`\n",
    "- **Syntaxe avec filtre** : `[expression for element in iterable if condition]`\n",
    "\n",
    "**Exemple** :\n",
    "```python\n",
    "def carre(n):\n",
    "    return [i**2 for i in range(1, n+1)]\n",
    "print(carre(5))  # [1, 4, 9, 16, 25]\n",
    "\n",
    "def pair(n):\n",
    "    return [i for i in range(1, n+1) if i % 2 == 0]\n",
    "print(pair(5))  # [2, 4]\n",
    "\n",
    "def voyelle(mot):\n",
    "    return [lettre for lettre in mot if lettre in \"aeiou\"]\n",
    "print(voyelle(\"hello\"))  # ['e', 'o']\n",
    "\n",
    "personnes = [(\"Alice\", 25), (\"Bob\", 14), (\"Charlie\", 35)]\n",
    "def majeurs(personnes):\n",
    "    return [nom for nom, age in personnes if age >= 18]\n",
    "print(majeurs(personnes))  # ['Alice', 'Charlie']\n",
    "```\n",
    "\n",
    "> **ℹ️ Info**: Ce type de syntaxe est très utilisé en Python et est appelé `List Comprehension`. Il permet de créer des listes de manière très concise.\n",
    "\n",
    "## Création de dictionnaire avec un `for` sur une ligne (Dict Comprehension)\n",
    "\n",
    "- **Syntaxe** : `{cle: valeur for element in iterable}`\n",
    "- **Syntaxe avec filtre** : `{cle: valeur for element in iterable if condition}`\n",
    "\n",
    "**Exemple** :\n",
    "```python\n",
    "# Exemple: Créer un dictionnaire avec les carrés des nombres de 1 à n\n",
    "def carre_dict(n):\n",
    "    return {i: i**2 for i in range(1, n+1)}\n",
    "print(carre_dict(5))  # {1: 1, 2: 4, 3: 9, 4: 16, 5: 25}\n",
    "\n",
    "###\n",
    "# Exemple : Calculer la somme des transactions par pays\n",
    "transactions = [\n",
    "    {'pays': 'France', 'montant': 100},\n",
    "    {'pays': 'France', 'montant': 200},\n",
    "    {'pays': 'USA', 'montant': 150},\n",
    "    {'pays': 'USA', 'montant': 300},\n",
    "    {'pays': 'Allemagne', 'montant': 250}\n",
    "]\n",
    "\n",
    "def somme_par_pays(transactions):\n",
    "    # ⚠️ Attention, ici encore cette syntaxe est très compacte mais rend le code moins lisible.\n",
    "    # Il est préférable d'utiliser une boucle classique dans ce cas.\n",
    "    return {pays: sum(t['montant'] for t in transactions if t['pays'] == pays) \n",
    "            for pays in {t['pays'] for t in transactions}}\n",
    "\n",
    "print(somme_par_pays(transactions))  # {'USA': 450, 'France': 300, 'Allemagne': 250}\n",
    "```\n",
    "\n",
    "> **ℹ️ Info**: On peut également créer des sets avec une syntaxe similaire : `{element for element in iterable}`.\n",
    "\n",
    "## 📚 Exercices\n",
    "\n",
    "1. Écrivez une fonction minimum qui prend en paramètre deux nombres et retourne le plus petit des deux. (Utilisez un `one-liner`)\n",
    "2. Écrivez une fonction `word_lengths` qui prend en paramètre une liste de mots et retourne une liste contenant la longueur de chaque mot. (Utilisez un `one-liner`)\n",
    "\n",
    "\n",
    "**Toujours plus**: Reprenez les exercices des séances précédentes et essayez de les résoudre en utilisant des `one-liners` quand cela est possible pour rendre votre code plus concis."
   ]
  },
  {
   "cell_type": "code",
   "execution_count": null,
   "metadata": {},
   "outputs": [],
   "source": [
    "# 🏖️ Sandbox for testing code\n",
    "\n"
   ]
  },
  {
   "cell_type": "code",
   "execution_count": null,
   "metadata": {},
   "outputs": [],
   "source": [
    "# 1. Écrivez une fonction minimum qui prend en paramètre deux nombres et retourne le plus petit des deux. (Utilisez un `one-liner`) Exemple: minimum(3, 5) ➞ 3\n"
   ]
  },
  {
   "cell_type": "code",
   "execution_count": null,
   "metadata": {},
   "outputs": [],
   "source": [
    "# 🧪\n",
    "ipytest.clean()\n",
    "def test_minimum():\n",
    "    assert minimum(3, 5) == 3\n",
    "    assert minimum(5, 3) == 3\n",
    "    assert minimum(5, 5) == 5\n",
    "    assert minimum(-1, 0) == -1\n",
    "ipytest.run()"
   ]
  },
  {
   "cell_type": "code",
   "execution_count": null,
   "metadata": {},
   "outputs": [],
   "source": [
    "# 2. Écrivez une fonction `word_lengths` qui prend en paramètre une liste de mots et retourne une liste contenant la longueur de chaque mot. (Utilisez un `one-liner`) Exemple: word_lengths([\"hello\", \"world\", \"!\"]) ➞ [5, 5, 1]\n"
   ]
  },
  {
   "cell_type": "code",
   "execution_count": null,
   "metadata": {},
   "outputs": [],
   "source": [
    "# 🧪\n",
    "ipytest.clean()\n",
    "def test_word_lengths():\n",
    "    assert word_lengths([\"hello\", \"world\", \"!\"]) == [5, 5, 1]\n",
    "    assert word_lengths([\"hello\", \"python\", \"!\", \"🐍\"]) == [5, 6, 1, 1]\n",
    "ipytest.run()"
   ]
  },
  {
   "cell_type": "code",
   "execution_count": null,
   "metadata": {},
   "outputs": [],
   "source": [
    "# Feel free to add blocks and copy-paste tests from previous exercises to test your code\n"
   ]
  },
  {
   "cell_type": "code",
   "execution_count": null,
   "metadata": {},
   "outputs": [],
   "source": []
  }
 ],
 "metadata": {
  "kernelspec": {
   "display_name": "Python 3",
   "language": "python",
   "name": "python3"
  },
  "language_info": {
   "codemirror_mode": {
    "name": "ipython",
    "version": 3
   },
   "file_extension": ".py",
   "mimetype": "text/x-python",
   "name": "python",
   "nbconvert_exporter": "python",
   "pygments_lexer": "ipython3",
   "version": "3.11.5"
  }
 },
 "nbformat": 4,
 "nbformat_minor": 2
}
