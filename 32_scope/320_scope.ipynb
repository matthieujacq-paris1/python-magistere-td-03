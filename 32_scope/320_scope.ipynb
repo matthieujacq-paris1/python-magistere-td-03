{
 "cells": [
  {
   "cell_type": "markdown",
   "metadata": {},
   "source": [
    "> ### Vérification de la configuration\n",
    "> Vérifiez que Python et les tests fonctionnent correctement en exécutant les deux cellules ci-dessous."
   ]
  },
  {
   "cell_type": "code",
   "execution_count": null,
   "metadata": {},
   "outputs": [],
   "source": [
    "print(\"✅ Python works!\")\n",
    "from sys import version\n",
    "print(version)"
   ]
  },
  {
   "cell_type": "code",
   "execution_count": null,
   "metadata": {},
   "outputs": [],
   "source": [
    "import ipytest\n",
    "ipytest.autoconfig()\n",
    "ipytest.clean()\n",
    "def test_all_good():\n",
    "    assert \"🐍\" == \"🐍\"\n",
    "ipytest.run()"
   ]
  },
  {
   "cell_type": "markdown",
   "metadata": {},
   "source": [
    "# Comprendre la notion de scope en Python\n",
    "\n",
    "En Python, le scope est la portée d'une variable, c'est-à-dire l'endroit où cette variable est accessible. Il existe deux types de scope en Python :\n",
    "- le **scope global** : accessible depuis n'importe où dans le programme\n",
    "- le **scope local** : accessible uniquement dans une partie spécifique du programme\n",
    "\n",
    "## Scope global\n",
    "\n",
    "Le scope global est la portée d'une variable qui est accessible depuis n'importe où dans le programme. Une variable déclarée en dehors de toute fonction est une variable globale. Par exemple, dans le code suivant, la variable `x` est une variable globale :\n",
    "\n",
    "```python\n",
    "x = 10\n",
    "print(x) # 10\n",
    "```\n",
    "\n",
    "Dans ce cas, la variable `x` est accessible depuis n'importe où dans le programme. Vous pouvez accéder à la variable `x` dans une fonction comme ceci :\n",
    "\n",
    "```python\n",
    "x = 10\n",
    "\n",
    "def my_function():\n",
    "    print(x)\n",
    "\n",
    "my_function() # 10\n",
    "x = 20\n",
    "my_function() # 20\n",
    "```\n",
    "\n",
    "## Scope local\n",
    "\n",
    "Le scope local est la portée d'une variable qui est accessible uniquement dans une partie spécifique du programme. Une variable déclarée à l'intérieur d'une fonction est une variable locale. Par exemple, dans le code suivant, la variable `x` est une variable locale :\n",
    "\n",
    "```python\n",
    "def my_function():\n",
    "    x = 21\n",
    "    print(x)\n",
    "\n",
    "my_function() # 21\n",
    "```\n",
    "\n",
    "Dans ce cas, la variable `x` est accessible uniquement à l'intérieur de la fonction `my_function`. Vous ne pouvez pas accéder à la variable `x` en dehors de la fonction `my_function`.\n",
    "\n",
    "## Scope global vs scope local\n",
    "\n",
    "Lorsqu'une variable est déclarée à la fois dans le scope global et dans le scope local, la variable locale a la priorité sur la variable globale. Par exemple, dans le code suivant, la variable `x` est une variable globale et une variable locale :\n",
    "\n",
    "```python\n",
    "x = 10\n",
    "\n",
    "def my_function():\n",
    "    x = 21\n",
    "    print(x) # 21\n",
    "\n",
    "my_function()\n",
    "x = 40\n",
    "my_function() # 21\n",
    "```\n",
    "\n",
    "Dans ce cas, la variable `x` à l'intérieur de la fonction `my_function` est une variable locale qui a la priorité sur la variable `x` globale.\n",
    "\n",
    "> **Remarque** :\n",
    "> - Il est recommandé d'éviter d'utiliser des variables globales dans vos programmes, car elles peuvent entraîner des effets secondaires inattendus.\n",
    "> - Contrairement à d'autres langages de programmation, Python ne crée pas de nouveaux scopes pour les blocs de code comme les boucles `for` ou `while`. Les variables déclarées à l'intérieur de ces blocs sont accessibles en dehors de ces blocs."
   ]
  },
  {
   "cell_type": "code",
   "execution_count": 6,
   "metadata": {},
   "outputs": [
    {
     "name": "stdout",
     "output_type": "stream",
     "text": [
      "9\n"
     ]
    }
   ],
   "source": [
    "# 🏖️ Sandbox for testing code\n"
   ]
  }
 ],
 "metadata": {
  "kernelspec": {
   "display_name": "Python 3",
   "language": "python",
   "name": "python3"
  },
  "language_info": {
   "codemirror_mode": {
    "name": "ipython",
    "version": 3
   },
   "file_extension": ".py",
   "mimetype": "text/x-python",
   "name": "python",
   "nbconvert_exporter": "python",
   "pygments_lexer": "ipython3",
   "version": "3.11.5"
  }
 },
 "nbformat": 4,
 "nbformat_minor": 2
}
