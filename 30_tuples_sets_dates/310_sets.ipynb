{
 "cells": [
  {
   "cell_type": "markdown",
   "metadata": {},
   "source": [
    "> ### Vérification de la configuration\n",
    "> Vérifiez que Python et les tests fonctionnent correctement en exécutant les deux cellules ci-dessous."
   ]
  },
  {
   "cell_type": "code",
   "execution_count": null,
   "metadata": {},
   "outputs": [],
   "source": [
    "print(\"✅ Python works!\")\n",
    "from sys import version\n",
    "print(version)"
   ]
  },
  {
   "cell_type": "code",
   "execution_count": null,
   "metadata": {},
   "outputs": [],
   "source": [
    "import ipytest\n",
    "ipytest.autoconfig()\n",
    "ipytest.clean()\n",
    "def test_all_good():\n",
    "    assert \"🐍\" == \"🐍\"\n",
    "ipytest.run()"
   ]
  },
  {
   "cell_type": "markdown",
   "metadata": {},
   "source": [
    "# Les sets en Python\n",
    "\n",
    "Un set est une collection non ordonnée d'éléments uniques. Les éléments d'un set sont séparés par des virgules et sont définis entre accolades `{}`.\n",
    "\n",
    "```python\n",
    "set1 = {1, 2, 3, 4, 5}\n",
    "set2 = {'a', 'b', 'c', 'd', 'e'}\n",
    "set3 = {1, 'a', 2, 'b', 3, 'c'}\n",
    "```\n",
    "\n",
    "### Accéder aux éléments d'un set\n",
    "\n",
    "Comme les listes et les tuples, les sets représentent une séquence d'éléments. Cependant, les sets ne sont pas ordonnés, ce qui signifie que vous ne pouvez pas accéder aux éléments d'un set en utilisant des indices. Vous pouvez cependant vérifier si un élément est présent dans un set en utilisant l'opérateur `in`.\n",
    "\n",
    "```python\n",
    "set1 = {1, 2, 3, 4, 5}\n",
    "print(1 in set1) # True\n",
    "print(6 in set1) # False\n",
    "\n",
    "# set1[0] # ❌ TypeError: 'set' object is not subscriptable\n",
    "\n",
    "for elem in set1:\n",
    "    print(elem) # affiche les éléments du set dans un ordre aléatoire\n",
    "```\n",
    "\n",
    "### Convertir des sets en listes et vice versa\n",
    "\n",
    "Pour créer un set à partir d'une liste, vous pouvez utiliser la fonction `set()`. Réciproquement, vous pouvez convertir un set en liste en utilisant la fonction `list()`.\n",
    "\n",
    "```python\n",
    "set1 = set(['a', 'b', 'c'])\n",
    "list1 = list({'a', 'b', 'c'})\n",
    "```\n",
    "\n",
    "> **ℹ️ Conséquence de la conversion d'une liste en set:**\n",
    "> - Lorsque vous convertissez une liste en set, les éléments dupliqués sont supprimés.\n",
    "\n",
    "---\n",
    "\n",
    "### 🎊 Bonus: méthodes et opérateurs de set\n",
    "\n",
    "- `.add(elem)`: ajoute un élément à un set.\n",
    "- `.remove(elem)`: supprime un élément d'un set. Si l'élément n'existe pas, une erreur est levée.\n",
    "- `.discard(elem)`: supprime un élément d'un set. Si l'élément n'existe pas, aucune erreur n'est levée.\n",
    "\n",
    "Opérateurs:\n",
    "- `&`: intersection\n",
    "- `|`: union\n",
    "- `-`: différence\n",
    "\n",
    "```python\n",
    "set1 = {'a', 'b', 'c'}\n",
    "set1.add('d')\n",
    "set1.remove('a')\n",
    "set1.discard('z') # aucune erreur\n",
    "print(set1) # {'b', 'c', 'd'}\n",
    "\n",
    "set2 = {'c', 'd', 'e'}\n",
    "print(set1 & set2) # {'c', 'd'}\n",
    "print(set1 | set2) # {'b', 'c', 'd', 'e'}\n",
    "print(set1 - set2) # {'b'}\n",
    "```\n",
    "\n",
    "> **ℹ️ Note:** Il existe aussi des méthodes pour effectuer ces opérations:\n",
    "> - `.union(set)`: retourne un set contenant tous les éléments des deux sets.\n",
    "> - `.intersection(set)`: retourne un set contenant les éléments communs aux deux sets.\n",
    "> - `.difference(set)`: retourne un set contenant les éléments du premier set qui ne sont pas dans le deuxième set.\n",
    "> Exemple: `set1.intersection(set2)`, `set1.union(set2)`, `set1.difference(set2)`.\n",
    "\n",
    "---\n",
    "\n",
    "## 📚 Exercices\n",
    "\n",
    "1. Créez une fonction `get_unique_elements` qui prend une liste en entrée et returne une liste contenant les éléments uniques de la liste d'entrée.\n",
    "2. 🎊 Créez une fonction `get_common_elements` qui prend deux listes en entrée et retourne une liste contenant les éléments communs aux deux listes.\n"
   ]
  },
  {
   "cell_type": "code",
   "execution_count": null,
   "metadata": {},
   "outputs": [],
   "source": [
    "# 🏖️ Sandbox for testing code\n"
   ]
  },
  {
   "cell_type": "code",
   "execution_count": 2,
   "metadata": {},
   "outputs": [],
   "source": [
    "# 1. Créez une fonction `get_unique_elements` qui prend une liste en entrée et returne une liste contenant les éléments uniques de la liste d'entrée.\n"
   ]
  },
  {
   "cell_type": "code",
   "execution_count": null,
   "metadata": {},
   "outputs": [],
   "source": [
    "# 🧪\n",
    "ipytest.clean()\n",
    "def test_get_unique_elements():\n",
    "    assert get_unique_elements([1, 2, 2, 3, 3, 3, 4, 4, 4, 4, 1, 1, 2, 1, 1]) == [1, 2, 3, 4]\n",
    "    assert get_unique_elements([1, 2, 3, 4]) == [1, 2, 3, 4]\n",
    "    assert get_unique_elements([1, 1, 1, 1, 1, 1, 1]) == [1]\n",
    "    assert get_unique_elements([]) == []\n",
    "ipytest.run()"
   ]
  },
  {
   "cell_type": "code",
   "execution_count": 5,
   "metadata": {},
   "outputs": [],
   "source": [
    "# 2. 🎊 Créez une fonction `get_common_elements` qui prend deux listes en entrée et retourne une liste contenant les éléments communs aux deux listes.\n"
   ]
  },
  {
   "cell_type": "code",
   "execution_count": null,
   "metadata": {},
   "outputs": [],
   "source": [
    "# 🧪\n",
    "ipytest.clean()\n",
    "def test_get_common_elements():\n",
    "    assert get_common_elements([1, 2, 3, 4], [3, 4, 5, 6]) == [3, 4]\n",
    "    assert get_common_elements([1, 2, 3, 4], [5, 6, 7, 8]) == []\n",
    "    assert get_common_elements([1, 2, 3, 4], [1, 2, 3, 4]) == [1, 2, 3, 4]\n",
    "    assert get_common_elements([], []) == []\n",
    "ipytest.run()"
   ]
  }
 ],
 "metadata": {
  "kernelspec": {
   "display_name": "Python 3",
   "language": "python",
   "name": "python3"
  },
  "language_info": {
   "codemirror_mode": {
    "name": "ipython",
    "version": 3
   },
   "file_extension": ".py",
   "mimetype": "text/x-python",
   "name": "python",
   "nbconvert_exporter": "python",
   "pygments_lexer": "ipython3",
   "version": "3.11.5"
  }
 },
 "nbformat": 4,
 "nbformat_minor": 2
}
