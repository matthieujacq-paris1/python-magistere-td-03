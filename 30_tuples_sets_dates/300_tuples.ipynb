{
 "cells": [
  {
   "cell_type": "markdown",
   "metadata": {},
   "source": [
    "> ### Vérification de la configuration\n",
    "> Vérifiez que Python et les tests fonctionnent correctement en exécutant les deux cellules ci-dessous."
   ]
  },
  {
   "cell_type": "code",
   "execution_count": null,
   "metadata": {},
   "outputs": [],
   "source": [
    "print(\"✅ Python works!\")\n",
    "from sys import version\n",
    "print(version)"
   ]
  },
  {
   "cell_type": "code",
   "execution_count": null,
   "metadata": {},
   "outputs": [],
   "source": [
    "import ipytest\n",
    "ipytest.autoconfig()\n",
    "ipytest.clean()\n",
    "def test_all_good():\n",
    "    assert \"🐍\" == \"🐍\"\n",
    "ipytest.run()"
   ]
  },
  {
   "cell_type": "markdown",
   "metadata": {},
   "source": [
    "# Les tuples en Python\n",
    "\n",
    "Un tuple est une collection immuables d'éléments ordonnés. Les éléments d'un tuple sont séparés par des virgules et peuvent être de types différents. Un tuple est défini en utilisant des parenthèses `()`.\n",
    "\n",
    "```python\n",
    "tuple1 = (1, 2, 3, 4, 5)\n",
    "tuple2 = ('a', 'b', 'c', 'd', 'e')\n",
    "tuple3 = (1, 'a', 2, 'b', 3, 'c')\n",
    "```\n",
    "\n",
    "> **ℹ️ Info:**\n",
    ">\n",
    "> Pour créer un tuple avec un seul élément, vous devez ajouter une virgule après l'élément : `('elem',)`.\n",
    ">\n",
    "> Pour créer un tuple vide, vous pouvez utiliser `()`.\n",
    "> ```python\n",
    "> tuple1 = ('a',) # tuple avec un seul élément\n",
    "> tuple2 = () # tuple vide\n",
    "> ```\n",
    "\n",
    "### Accéder aux éléments d'un tuple\n",
    "\n",
    "Comme les listes, les tuples représentent une séquence d'éléments. Cependant, les tuples sont **immuables** (ou **immutable** en anglais), ce qui signifie que vous ne pouvez pas modifier les éléments d'un tuple après sa création (comme ajouter, supprimer ou remplacer des éléments).\n",
    "Cependant, vous pouvez accéder aux éléments d'un tuple en utilisant des indices et des tranches, tout comme vous le feriez avec une liste. Vous pouvez également concaténer des tuples pour créer de nouveaux tuples.\n",
    "\n",
    "```python\n",
    "tuple1 = ('a', 'b', 'c', 'd', 'e')\n",
    "print(tuple1[0]) # a\n",
    "print(tuple1[2:4]) # ('c', 'd')\n",
    "\n",
    "# tuple1[0] = 'z' # ❌ TypeError: 'tuple' object does not support item assignment\n",
    "# tuple1.insert(0, 'z') # ❌ AttributeError: 'tuple' object has no attribute 'insert'\n",
    "\n",
    "tuple1 = ('z', 'b', 'c', 'd', 'e')\n",
    "tuple1 = ('z',) + tuple1[1:]\n",
    "```\n",
    "\n",
    "### Convertir des tuples en listes et vice versa\n",
    "\n",
    "Pour créer un tuple à partir d'une liste, vous pouvez utiliser la fonction `tuple()`. Réciproquement, vous pouvez convertir un tuple en liste en utilisant la fonction `list()`.\n",
    "\n",
    "```python\n",
    "tuple1 = tuple(['a', 'b', 'c'])\n",
    "# tuple1[0] = 'z' # ❌ TypeError: 'tuple' object does not support item assignment\n",
    "\n",
    "list1 = list(tuple1)\n",
    "list1[0] = 'z'\n",
    "```\n",
    "\n",
    "### Cas d'usage des tuples\n",
    "\n",
    "Une fonction peut retourner plusieurs valeurs en séparant les valeurs par des virgules. En réalité, la fonction retourne un tuple contenant les valeurs.\n",
    "\n",
    "```python\n",
    "def get_user():\n",
    "    return 'John', 'Doe', 30\n",
    "user = get_user() # user = ('John', 'Doe', 30)\n",
    "```\n",
    "\n",
    "> **ℹ️ Tip: tuple unpacking**\n",
    "> Vous pouvez récupérer les éléments d'un tuple (ou d'une liste) en les assignant à des variables séparées. C'est appelé le **tuple unpacking**.\n",
    "> C'est très utile pour :\n",
    "> - assigner plusieurs valeurs à la fois\n",
    "> - échanger les valeurs de deux variables\n",
    "> - assigner les valeurs retournées par une fonction\n",
    ">\n",
    "> Exemples :\n",
    "> ```python\n",
    "> a, b = 1, 2\n",
    "> print(a) # 1\n",
    "> print(b) # 2\n",
    "> \n",
    "> a, b = b, a\n",
    "> print(a) # 2\n",
    "> print(b) # 1\n",
    ">\n",
    "> name, address, phone = 'John', 'Doe', '555-1234'\n",
    "> print(name) # John\n",
    "> print(address) # Doe\n",
    "> print(phone) # 555-1234\n",
    ">\n",
    "> first_name, last_name, age = get_user()\n",
    "> print(first_name) # Output: John\n",
    "> print(last_name) # Output: Doe\n",
    "> print(age) # Output: 30\n",
    ">\n",
    "> for index, value in enumerate(['a', 'b', 'c']):\n",
    ">     print(index, value)\n",
    "> ```\n",
    "\n",
    "> **🎊 Bonus: comparaison de tuples**\n",
    ">\n",
    "> Les tuples peuvent être comparés en utilisant des opérateurs de comparaison (`==`, `!=`, `<`, `>`, `<=`, `>=`). Les comparaisons sont effectuées élément par élément, en commençant par le premier élément. Si les premiers éléments sont égaux, les éléments suivants sont comparés, et ainsi de suite.\n",
    "> \n",
    "> ```python\n",
    "> tuple1 = (1, 2, 6)\n",
    "> tuple2 = (1, 3, 5)\n",
    "> print(tuple1 < tuple2) # True (car 2 < 3)\n",
    "> ```\n",
    "\n",
    "\n",
    "### 📚 Exercices\n",
    "\n",
    "1. Écrivez une fonction `get_first_and_last` qui prend une liste en entrée et retourne deux valeurs : le premier et le dernier élément de la liste.\n",
    "2. 🎊 Écrivez une fonction `get_winner` qui prend en argument une liste de pays dans laquelle chaque élément est un tuple de la forme (nom_pays, (nb_medailles_or, nb_medailles_argent, nb_medailles_bronze)) et retourne le nom du pays gagnant en fonction du nombre de médailles d'or, d'argent et de bronze."
   ]
  },
  {
   "cell_type": "code",
   "execution_count": null,
   "metadata": {},
   "outputs": [],
   "source": [
    "# 🏖️ Sandbox for testing code\n"
   ]
  },
  {
   "cell_type": "code",
   "execution_count": 2,
   "metadata": {},
   "outputs": [],
   "source": [
    "# 1.Créez une fonction `get_first_and_last` qui prend une liste en entrée et retourne deux valeurs : le premier et le dernier élément de la liste.\n"
   ]
  },
  {
   "cell_type": "code",
   "execution_count": null,
   "metadata": {},
   "outputs": [],
   "source": [
    "# 🧪\n",
    "ipytest.clean()\n",
    "def test_get_first_and_last():\n",
    "    first, last = get_first_and_last([\"hello\", \"world\", \"python\"])\n",
    "    assert first == \"hello\"\n",
    "    assert last == \"python\"\n",
    "    assert get_first_and_last([1, 2, 3]) == (1, 3)\n",
    "    assert get_first_and_last([1]) == (1, 1)\n",
    "ipytest.run()"
   ]
  },
  {
   "cell_type": "code",
   "execution_count": 5,
   "metadata": {},
   "outputs": [],
   "source": [
    "# 2. 🎊 Écrivez une fonction `get_winner` qui prend en argument une liste de pays dans laquelle chaque élément est un tuple de la forme (nom_pays, (nb_medailles_or, nb_medailles_argent, nb_medailles_bronze)) et retourne le nom du pays gagnant en fonction du nombre de médailles d'or, d'argent et de bronze.\n",
    "# Si le nombre de médailles est le même pour deux pays, le gagnant est celui qui a le plus de médailles d'or. Si le nombre de médailles d'or est également le même, le gagnant est celui qui a le plus de médailles d'argent. Si le nombre de médailles d'argent est également le même, le gagnant est celui qui a le plus de médailles de bronze.\n",
    "# get_winner([(\"France\", (10, 8, 6)), (\"USA\", (15, 10, 5)), (\"Chine\", (12, 10, 8)), (\"Japon\", (8, 10, 12))]) ➞ \"USA\"\n",
    "# get_winner([(\"France\", (15, 8, 6)), (\"USA\", (15, 10, 5)), (\"Chine\", (12, 10, 8)), (\"Japon\", (8, 10, 12)), (\"Russie\", (15, 10, 5))]) ➞ \"USA\"\n",
    "# get_winner([(\"France\", (15, 10, 6)), (\"USA\", (15, 10, 5)), (\"Chine\", (12, 10, 8)), (\"Japon\", (8, 10, 12)), (\"Russie\", (15, 10, 5)), (\"Allemagne\", (15, 10, 5))]) ➞ \"France\"\n",
    "# S'il y a égalité, retournez le premier pays trouvé.\n",
    "# Tip: servez-vous des comparaisons entre tuples pour comparer les médailles de chaque pays.\n"
   ]
  },
  {
   "cell_type": "code",
   "execution_count": null,
   "metadata": {},
   "outputs": [],
   "source": [
    "# 🧪\n",
    "ipytest.clean()\n",
    "def test_get_winner():\n",
    "    assert get_winner([(\"France\", (10, 8, 6)), (\"USA\", (15, 10, 5)), (\"Chine\", (12, 10, 8)), (\"Japon\", (8, 10, 12))]) == \"USA\"\n",
    "    assert get_winner([(\"France\", (15, 8, 6)), (\"USA\", (15, 10, 5)), (\"Chine\", (12, 10, 8)), (\"Japon\", (8, 10, 12)), (\"Russie\", (15, 10, 5))]) == \"USA\"\n",
    "    assert get_winner([(\"France\", (15, 10, 6)), (\"USA\", (15, 10, 5)), (\"Chine\", (12, 10, 8)), (\"Japon\", (8, 10, 12)), (\"Russie\", (15, 10, 5)), (\"Allemagne\", (15, 10, 5))]) == \"France\"\n",
    "    assert get_winner([(\"France\", (15, 10, 6)), (\"USA\", (15, 10, 5)), (\"Chine\", (15, 11, 2)), (\"Japon\", (8, 10, 12))]) == \"Chine\"\n",
    "    assert get_winner([(\"France\", (15, 10, 5)), (\"USA\", (15, 10, 5)), (\"Chine\", (15, 10, 6)), (\"Japon\", (15, 10, 6))]) == \"Chine\"\n",
    "ipytest.run()"
   ]
  }
 ],
 "metadata": {
  "kernelspec": {
   "display_name": "Python 3",
   "language": "python",
   "name": "python3"
  },
  "language_info": {
   "codemirror_mode": {
    "name": "ipython",
    "version": 3
   },
   "file_extension": ".py",
   "mimetype": "text/x-python",
   "name": "python",
   "nbconvert_exporter": "python",
   "pygments_lexer": "ipython3",
   "version": "3.11.5"
  }
 },
 "nbformat": 4,
 "nbformat_minor": 2
}
